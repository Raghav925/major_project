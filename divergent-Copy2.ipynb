{
 "cells": [
  {
   "cell_type": "markdown",
   "id": "62c4fbe3",
   "metadata": {
    "id": "72d7994c"
   },
   "source": [
    "# Importing Libraries"
   ]
  },
  {
   "cell_type": "code",
   "execution_count": 1,
   "id": "ed16efcb",
   "metadata": {
    "execution": {
     "iopub.execute_input": "2023-03-15T07:00:02.069010Z",
     "iopub.status.busy": "2023-03-15T07:00:02.068071Z",
     "iopub.status.idle": "2023-03-15T07:00:02.868684Z",
     "shell.execute_reply": "2023-03-15T07:00:02.867421Z",
     "shell.execute_reply.started": "2023-03-15T07:00:02.068957Z"
    },
    "id": "8766c043"
   },
   "outputs": [],
   "source": [
    "# packages\n",
    "\n",
    "# standard\n",
    "import numpy as np\n",
    "import pandas as pd\n",
    "import time \n",
    "\n",
    "# plots\n",
    "import matplotlib.pyplot as plt\n",
    "import seaborn as sns\n",
    "\n",
    "# string functions\n",
    "import string\n",
    "\n",
    "\n",
    "# NLTK\n",
    "import re\n",
    "import nltk\n",
    "from nltk import word_tokenize, bigrams\n",
    "from nltk.corpus import stopwords\n",
    "from nltk.stem.porter import PorterStemmer\n",
    "\n",
    "# sklearn\n",
    "from sklearn.feature_extraction.text import CountVectorizer\n",
    "from sklearn.model_selection import train_test_split\n",
    "import seaborn as sns\n",
    "from sklearn.feature_extraction.text import TfidfVectorizer\n",
    "from sklearn.neighbors import KNeighborsClassifier\n",
    "from sklearn.ensemble import RandomForestClassifier, AdaBoostClassifier\n",
    "from sklearn.naive_bayes import MultinomialNB\n",
    "from sklearn.svm import SVC\n",
    "\n",
    "# ML\n",
    "\n",
    "\n",
    "# other stuff\n",
    "from collections import Counter\n",
    "\n",
    "import warnings\n",
    "warnings.filterwarnings('ignore')"
   ]
  },
  {
   "cell_type": "markdown",
   "id": "08490316",
   "metadata": {
    "id": "49b9c804"
   },
   "source": [
    "# ABOUT DATASET"
   ]
  },
  {
   "cell_type": "markdown",
   "id": "8dd6b80b",
   "metadata": {
    "id": "f7a020c0"
   },
   "source": [
    "- This dataset contains information  in excel format which comprises around 1.6 Million rows of data from social media, Facebook comments, posts, etc.\n",
    "-  All the people selected for data annotation are very well in English Language\n",
    "- There are two columns in this dataset. Text and labels are the two types\n",
    "- Normal and anxiety/depression text is present in the text columns, and the label column indicates whether the corresponding text denotes anxiety or depression."
   ]
  },
  {
   "cell_type": "code",
   "execution_count": 2,
   "id": "773da690",
   "metadata": {
    "colab": {
     "base_uri": "https://localhost:8080/"
    },
    "execution": {
     "iopub.execute_input": "2023-03-15T07:00:31.072737Z",
     "iopub.status.busy": "2023-03-15T07:00:31.072201Z",
     "iopub.status.idle": "2023-03-15T07:00:32.232086Z",
     "shell.execute_reply": "2023-03-15T07:00:32.230765Z",
     "shell.execute_reply.started": "2023-03-15T07:00:31.072689Z"
    },
    "id": "98173db1",
    "outputId": "1e729485-e9de-46b7-c8bf-619ce91c7fa8",
    "scrolled": true
   },
   "outputs": [
    {
     "data": {
      "text/html": [
       "<div>\n",
       "<style scoped>\n",
       "    .dataframe tbody tr th:only-of-type {\n",
       "        vertical-align: middle;\n",
       "    }\n",
       "\n",
       "    .dataframe tbody tr th {\n",
       "        vertical-align: top;\n",
       "    }\n",
       "\n",
       "    .dataframe thead th {\n",
       "        text-align: right;\n",
       "    }\n",
       "</style>\n",
       "<table border=\"1\" class=\"dataframe\">\n",
       "  <thead>\n",
       "    <tr style=\"text-align: right;\">\n",
       "      <th></th>\n",
       "      <th>0</th>\n",
       "      <th>1467810369</th>\n",
       "      <th>Mon Apr 06 22:19:45 PDT 2009</th>\n",
       "      <th>NO_QUERY</th>\n",
       "      <th>_TheSpecialOne_</th>\n",
       "      <th>@switchfoot http://twitpic.com/2y1zl - Awww, that's a bummer.  You shoulda got David Carr of Third Day to do it. ;D</th>\n",
       "    </tr>\n",
       "  </thead>\n",
       "  <tbody>\n",
       "    <tr>\n",
       "      <th>0</th>\n",
       "      <td>0</td>\n",
       "      <td>1467810672</td>\n",
       "      <td>Mon Apr 06 22:19:49 PDT 2009</td>\n",
       "      <td>NO_QUERY</td>\n",
       "      <td>scotthamilton</td>\n",
       "      <td>is upset that he can't update his Facebook by ...</td>\n",
       "    </tr>\n",
       "    <tr>\n",
       "      <th>1</th>\n",
       "      <td>0</td>\n",
       "      <td>1467810917</td>\n",
       "      <td>Mon Apr 06 22:19:53 PDT 2009</td>\n",
       "      <td>NO_QUERY</td>\n",
       "      <td>mattycus</td>\n",
       "      <td>@Kenichan I dived many times for the ball. Man...</td>\n",
       "    </tr>\n",
       "    <tr>\n",
       "      <th>2</th>\n",
       "      <td>0</td>\n",
       "      <td>1467811184</td>\n",
       "      <td>Mon Apr 06 22:19:57 PDT 2009</td>\n",
       "      <td>NO_QUERY</td>\n",
       "      <td>ElleCTF</td>\n",
       "      <td>my whole body feels itchy and like its on fire</td>\n",
       "    </tr>\n",
       "    <tr>\n",
       "      <th>3</th>\n",
       "      <td>0</td>\n",
       "      <td>1467811193</td>\n",
       "      <td>Mon Apr 06 22:19:57 PDT 2009</td>\n",
       "      <td>NO_QUERY</td>\n",
       "      <td>Karoli</td>\n",
       "      <td>@nationwideclass no, it's not behaving at all....</td>\n",
       "    </tr>\n",
       "    <tr>\n",
       "      <th>4</th>\n",
       "      <td>0</td>\n",
       "      <td>1467811372</td>\n",
       "      <td>Mon Apr 06 22:20:00 PDT 2009</td>\n",
       "      <td>NO_QUERY</td>\n",
       "      <td>joy_wolf</td>\n",
       "      <td>@Kwesidei not the whole crew</td>\n",
       "    </tr>\n",
       "    <tr>\n",
       "      <th>...</th>\n",
       "      <td>...</td>\n",
       "      <td>...</td>\n",
       "      <td>...</td>\n",
       "      <td>...</td>\n",
       "      <td>...</td>\n",
       "      <td>...</td>\n",
       "    </tr>\n",
       "    <tr>\n",
       "      <th>1599994</th>\n",
       "      <td>4</td>\n",
       "      <td>2193601966</td>\n",
       "      <td>Tue Jun 16 08:40:49 PDT 2009</td>\n",
       "      <td>NO_QUERY</td>\n",
       "      <td>AmandaMarie1028</td>\n",
       "      <td>Just woke up. Having no school is the best fee...</td>\n",
       "    </tr>\n",
       "    <tr>\n",
       "      <th>1599995</th>\n",
       "      <td>4</td>\n",
       "      <td>2193601969</td>\n",
       "      <td>Tue Jun 16 08:40:49 PDT 2009</td>\n",
       "      <td>NO_QUERY</td>\n",
       "      <td>TheWDBoards</td>\n",
       "      <td>TheWDB.com - Very cool to hear old Walt interv...</td>\n",
       "    </tr>\n",
       "    <tr>\n",
       "      <th>1599996</th>\n",
       "      <td>4</td>\n",
       "      <td>2193601991</td>\n",
       "      <td>Tue Jun 16 08:40:49 PDT 2009</td>\n",
       "      <td>NO_QUERY</td>\n",
       "      <td>bpbabe</td>\n",
       "      <td>Are you ready for your MoJo Makeover? Ask me f...</td>\n",
       "    </tr>\n",
       "    <tr>\n",
       "      <th>1599997</th>\n",
       "      <td>4</td>\n",
       "      <td>2193602064</td>\n",
       "      <td>Tue Jun 16 08:40:49 PDT 2009</td>\n",
       "      <td>NO_QUERY</td>\n",
       "      <td>tinydiamondz</td>\n",
       "      <td>Happy 38th Birthday to my boo of alll time!!! ...</td>\n",
       "    </tr>\n",
       "    <tr>\n",
       "      <th>1599998</th>\n",
       "      <td>4</td>\n",
       "      <td>2193602129</td>\n",
       "      <td>Tue Jun 16 08:40:50 PDT 2009</td>\n",
       "      <td>NO_QUERY</td>\n",
       "      <td>RyanTrevMorris</td>\n",
       "      <td>happy #charitytuesday @theNSPCC @SparksCharity...</td>\n",
       "    </tr>\n",
       "  </tbody>\n",
       "</table>\n",
       "<p>1599999 rows × 6 columns</p>\n",
       "</div>"
      ],
      "text/plain": [
       "         0  1467810369  Mon Apr 06 22:19:45 PDT 2009  NO_QUERY  \\\n",
       "0        0  1467810672  Mon Apr 06 22:19:49 PDT 2009  NO_QUERY   \n",
       "1        0  1467810917  Mon Apr 06 22:19:53 PDT 2009  NO_QUERY   \n",
       "2        0  1467811184  Mon Apr 06 22:19:57 PDT 2009  NO_QUERY   \n",
       "3        0  1467811193  Mon Apr 06 22:19:57 PDT 2009  NO_QUERY   \n",
       "4        0  1467811372  Mon Apr 06 22:20:00 PDT 2009  NO_QUERY   \n",
       "...     ..         ...                           ...       ...   \n",
       "1599994  4  2193601966  Tue Jun 16 08:40:49 PDT 2009  NO_QUERY   \n",
       "1599995  4  2193601969  Tue Jun 16 08:40:49 PDT 2009  NO_QUERY   \n",
       "1599996  4  2193601991  Tue Jun 16 08:40:49 PDT 2009  NO_QUERY   \n",
       "1599997  4  2193602064  Tue Jun 16 08:40:49 PDT 2009  NO_QUERY   \n",
       "1599998  4  2193602129  Tue Jun 16 08:40:50 PDT 2009  NO_QUERY   \n",
       "\n",
       "         _TheSpecialOne_  \\\n",
       "0          scotthamilton   \n",
       "1               mattycus   \n",
       "2                ElleCTF   \n",
       "3                 Karoli   \n",
       "4               joy_wolf   \n",
       "...                  ...   \n",
       "1599994  AmandaMarie1028   \n",
       "1599995      TheWDBoards   \n",
       "1599996           bpbabe   \n",
       "1599997     tinydiamondz   \n",
       "1599998   RyanTrevMorris   \n",
       "\n",
       "        @switchfoot http://twitpic.com/2y1zl - Awww, that's a bummer.  You shoulda got David Carr of Third Day to do it. ;D  \n",
       "0        is upset that he can't update his Facebook by ...                                                                   \n",
       "1        @Kenichan I dived many times for the ball. Man...                                                                   \n",
       "2          my whole body feels itchy and like its on fire                                                                    \n",
       "3        @nationwideclass no, it's not behaving at all....                                                                   \n",
       "4                            @Kwesidei not the whole crew                                                                    \n",
       "...                                                    ...                                                                   \n",
       "1599994  Just woke up. Having no school is the best fee...                                                                   \n",
       "1599995  TheWDB.com - Very cool to hear old Walt interv...                                                                   \n",
       "1599996  Are you ready for your MoJo Makeover? Ask me f...                                                                   \n",
       "1599997  Happy 38th Birthday to my boo of alll time!!! ...                                                                   \n",
       "1599998  happy #charitytuesday @theNSPCC @SparksCharity...                                                                   \n",
       "\n",
       "[1599999 rows x 6 columns]"
      ]
     },
     "execution_count": 2,
     "metadata": {},
     "output_type": "execute_result"
    }
   ],
   "source": [
    "df1 = pd.read_csv('data2.csv', encoding='latin-1')\n",
    "df1"
   ]
  },
  {
   "cell_type": "code",
   "execution_count": 3,
   "id": "fe588124",
   "metadata": {},
   "outputs": [],
   "source": [
    "df1.columns=['label', 'id', 'Date', 'Query', 'User', 'Text']\n",
    "df1 = df1.drop(columns=['id', 'Date', 'Query', 'User'], axis=1)\n",
    "df1.label = df1.label.apply(lambda x: np.float64(3) if x==0 else np.float64(x))\n",
    "df1.label = df1.label.apply(lambda x: np.float64(2) if x==4 else np.float64(x))\n"
   ]
  },
  {
   "cell_type": "code",
   "execution_count": 4,
   "id": "a7e8ce52",
   "metadata": {
    "execution": {
     "iopub.execute_input": "2023-03-15T07:01:09.258999Z",
     "iopub.status.busy": "2023-03-15T07:01:09.258549Z",
     "iopub.status.idle": "2023-03-15T07:01:09.267454Z",
     "shell.execute_reply": "2023-03-15T07:01:09.265943Z",
     "shell.execute_reply.started": "2023-03-15T07:01:09.258960Z"
    },
    "scrolled": true
   },
   "outputs": [
    {
     "data": {
      "text/plain": [
       "Index(['label', 'Text'], dtype='object')"
      ]
     },
     "execution_count": 4,
     "metadata": {},
     "output_type": "execute_result"
    }
   ],
   "source": [
    "df1.columns"
   ]
  },
  {
   "cell_type": "code",
   "execution_count": 60,
   "id": "d2114db5",
   "metadata": {},
   "outputs": [],
   "source": [
    "df1.label = df1.label.apply(lambda x: np.float64(1) if x==3 else np.float64(x))\n",
    "df1.label = df1.label.apply(lambda x: np.float64(0) if x==2 else np.float64(x))\n",
    "df_top = df1.head(12000)\n",
    "df_bottom = df1.tail(12000)\n",
    "df = pd.concat([df_top, df_bottom])"
   ]
  },
  {
   "cell_type": "markdown",
   "id": "af957a53",
   "metadata": {
    "id": "33b4ee15"
   },
   "source": [
    "# Dataset Summary\n"
   ]
  },
  {
   "cell_type": "code",
   "execution_count": 61,
   "id": "c51bb319",
   "metadata": {
    "colab": {
     "base_uri": "https://localhost:8080/",
     "height": 265
    },
    "execution": {
     "iopub.execute_input": "2023-03-15T07:01:33.643692Z",
     "iopub.status.busy": "2023-03-15T07:01:33.643269Z",
     "iopub.status.idle": "2023-03-15T07:01:33.717470Z",
     "shell.execute_reply": "2023-03-15T07:01:33.716398Z",
     "shell.execute_reply.started": "2023-03-15T07:01:33.643653Z"
    },
    "id": "7de8b84a",
    "outputId": "679933dd-ea0b-4efb-c032-2482580db906"
   },
   "outputs": [
    {
     "name": "stdout",
     "output_type": "stream",
     "text": [
      "Shape of The Dataset : (24000, 2)\n",
      "\n",
      "Glimpse of The Dataset :\n"
     ]
    },
    {
     "data": {
      "text/html": [
       "<div>\n",
       "<style scoped>\n",
       "    .dataframe tbody tr th:only-of-type {\n",
       "        vertical-align: middle;\n",
       "    }\n",
       "\n",
       "    .dataframe tbody tr th {\n",
       "        vertical-align: top;\n",
       "    }\n",
       "\n",
       "    .dataframe thead th {\n",
       "        text-align: right;\n",
       "    }\n",
       "</style>\n",
       "<table border=\"1\" class=\"dataframe\">\n",
       "  <thead>\n",
       "    <tr style=\"text-align: right;\">\n",
       "      <th></th>\n",
       "      <th>label</th>\n",
       "      <th>Text</th>\n",
       "    </tr>\n",
       "  </thead>\n",
       "  <tbody>\n",
       "    <tr>\n",
       "      <th>0</th>\n",
       "      <td>1.0</td>\n",
       "      <td>is upset that he can't update his Facebook by ...</td>\n",
       "    </tr>\n",
       "    <tr>\n",
       "      <th>1</th>\n",
       "      <td>1.0</td>\n",
       "      <td>@Kenichan I dived many times for the ball. Man...</td>\n",
       "    </tr>\n",
       "    <tr>\n",
       "      <th>2</th>\n",
       "      <td>1.0</td>\n",
       "      <td>my whole body feels itchy and like its on fire</td>\n",
       "    </tr>\n",
       "    <tr>\n",
       "      <th>3</th>\n",
       "      <td>1.0</td>\n",
       "      <td>@nationwideclass no, it's not behaving at all....</td>\n",
       "    </tr>\n",
       "    <tr>\n",
       "      <th>4</th>\n",
       "      <td>1.0</td>\n",
       "      <td>@Kwesidei not the whole crew</td>\n",
       "    </tr>\n",
       "  </tbody>\n",
       "</table>\n",
       "</div>"
      ],
      "text/plain": [
       "   label                                               Text\n",
       "0    1.0  is upset that he can't update his Facebook by ...\n",
       "1    1.0  @Kenichan I dived many times for the ball. Man...\n",
       "2    1.0    my whole body feels itchy and like its on fire \n",
       "3    1.0  @nationwideclass no, it's not behaving at all....\n",
       "4    1.0                      @Kwesidei not the whole crew "
      ]
     },
     "execution_count": 61,
     "metadata": {},
     "output_type": "execute_result"
    }
   ],
   "source": [
    "print(f\"Shape of The Dataset : {df.shape}\")\n",
    "print(f\"\\nGlimpse of The Dataset :\")\n",
    "df.head()\n"
   ]
  },
  {
   "cell_type": "code",
   "execution_count": 62,
   "id": "d9888d65",
   "metadata": {
    "colab": {
     "base_uri": "https://localhost:8080/"
    },
    "execution": {
     "iopub.execute_input": "2023-03-15T07:01:48.517956Z",
     "iopub.status.busy": "2023-03-15T07:01:48.517469Z",
     "iopub.status.idle": "2023-03-15T07:01:48.538621Z",
     "shell.execute_reply": "2023-03-15T07:01:48.537012Z",
     "shell.execute_reply.started": "2023-03-15T07:01:48.517908Z"
    },
    "id": "ab414d12",
    "outputId": "90dfab87-357a-458c-b707-be844b853fbe"
   },
   "outputs": [
    {
     "name": "stdout",
     "output_type": "stream",
     "text": [
      "About Dataset :\n",
      "\n",
      "<class 'pandas.core.frame.DataFrame'>\n",
      "Int64Index: 24000 entries, 0 to 1599998\n",
      "Data columns (total 2 columns):\n",
      " #   Column  Non-Null Count  Dtype  \n",
      "---  ------  --------------  -----  \n",
      " 0   label   24000 non-null  float64\n",
      " 1   Text    24000 non-null  object \n",
      "dtypes: float64(1), object(1)\n",
      "memory usage: 562.5+ KB\n",
      "None\n"
     ]
    }
   ],
   "source": [
    "print(f\"About Dataset :\\n\")\n",
    "print(df.info())"
   ]
  },
  {
   "cell_type": "code",
   "execution_count": 63,
   "id": "cf588cc0",
   "metadata": {
    "colab": {
     "base_uri": "https://localhost:8080/",
     "height": 132
    },
    "execution": {
     "iopub.execute_input": "2023-03-15T07:01:51.629043Z",
     "iopub.status.busy": "2023-03-15T07:01:51.628117Z",
     "iopub.status.idle": "2023-03-15T07:01:51.659188Z",
     "shell.execute_reply": "2023-03-15T07:01:51.657715Z",
     "shell.execute_reply.started": "2023-03-15T07:01:51.628994Z"
    },
    "id": "3c5e8e1c",
    "outputId": "1cd89bd6-410f-47d6-eed4-62fa6224941c"
   },
   "outputs": [
    {
     "name": "stdout",
     "output_type": "stream",
     "text": [
      "Summary of The  Dataset :\n"
     ]
    },
    {
     "data": {
      "text/html": [
       "<div>\n",
       "<style scoped>\n",
       "    .dataframe tbody tr th:only-of-type {\n",
       "        vertical-align: middle;\n",
       "    }\n",
       "\n",
       "    .dataframe tbody tr th {\n",
       "        vertical-align: top;\n",
       "    }\n",
       "\n",
       "    .dataframe thead th {\n",
       "        text-align: right;\n",
       "    }\n",
       "</style>\n",
       "<table border=\"1\" class=\"dataframe\">\n",
       "  <thead>\n",
       "    <tr style=\"text-align: right;\">\n",
       "      <th></th>\n",
       "      <th>label</th>\n",
       "    </tr>\n",
       "  </thead>\n",
       "  <tbody>\n",
       "    <tr>\n",
       "      <th>count</th>\n",
       "      <td>24000.00000</td>\n",
       "    </tr>\n",
       "    <tr>\n",
       "      <th>mean</th>\n",
       "      <td>0.50000</td>\n",
       "    </tr>\n",
       "    <tr>\n",
       "      <th>std</th>\n",
       "      <td>0.50001</td>\n",
       "    </tr>\n",
       "    <tr>\n",
       "      <th>min</th>\n",
       "      <td>0.00000</td>\n",
       "    </tr>\n",
       "    <tr>\n",
       "      <th>25%</th>\n",
       "      <td>0.00000</td>\n",
       "    </tr>\n",
       "    <tr>\n",
       "      <th>50%</th>\n",
       "      <td>0.50000</td>\n",
       "    </tr>\n",
       "    <tr>\n",
       "      <th>75%</th>\n",
       "      <td>1.00000</td>\n",
       "    </tr>\n",
       "    <tr>\n",
       "      <th>max</th>\n",
       "      <td>1.00000</td>\n",
       "    </tr>\n",
       "  </tbody>\n",
       "</table>\n",
       "</div>"
      ],
      "text/plain": [
       "             label\n",
       "count  24000.00000\n",
       "mean       0.50000\n",
       "std        0.50001\n",
       "min        0.00000\n",
       "25%        0.00000\n",
       "50%        0.50000\n",
       "75%        1.00000\n",
       "max        1.00000"
      ]
     },
     "execution_count": 63,
     "metadata": {},
     "output_type": "execute_result"
    }
   ],
   "source": [
    "print(f\"Summary of The  Dataset :\")\n",
    "df.describe()"
   ]
  },
  {
   "cell_type": "code",
   "execution_count": 64,
   "id": "8fb5baff",
   "metadata": {
    "colab": {
     "base_uri": "https://localhost:8080/",
     "height": 146
    },
    "execution": {
     "iopub.execute_input": "2023-03-15T07:01:54.416739Z",
     "iopub.status.busy": "2023-03-15T07:01:54.415983Z",
     "iopub.status.idle": "2023-03-15T07:01:54.447730Z",
     "shell.execute_reply": "2023-03-15T07:01:54.446009Z",
     "shell.execute_reply.started": "2023-03-15T07:01:54.416692Z"
    },
    "id": "3236e8f7",
    "outputId": "2f454cc6-b2aa-402a-f5b5-3769cca8fa1d"
   },
   "outputs": [
    {
     "data": {
      "text/html": [
       "<div>\n",
       "<style scoped>\n",
       "    .dataframe tbody tr th:only-of-type {\n",
       "        vertical-align: middle;\n",
       "    }\n",
       "\n",
       "    .dataframe tbody tr th {\n",
       "        vertical-align: top;\n",
       "    }\n",
       "\n",
       "    .dataframe thead th {\n",
       "        text-align: right;\n",
       "    }\n",
       "</style>\n",
       "<table border=\"1\" class=\"dataframe\">\n",
       "  <thead>\n",
       "    <tr style=\"text-align: right;\">\n",
       "      <th></th>\n",
       "      <th>Text</th>\n",
       "    </tr>\n",
       "  </thead>\n",
       "  <tbody>\n",
       "    <tr>\n",
       "      <th>count</th>\n",
       "      <td>24000</td>\n",
       "    </tr>\n",
       "    <tr>\n",
       "      <th>unique</th>\n",
       "      <td>23934</td>\n",
       "    </tr>\n",
       "    <tr>\n",
       "      <th>top</th>\n",
       "      <td>At work</td>\n",
       "    </tr>\n",
       "    <tr>\n",
       "      <th>freq</th>\n",
       "      <td>5</td>\n",
       "    </tr>\n",
       "  </tbody>\n",
       "</table>\n",
       "</div>"
      ],
      "text/plain": [
       "            Text\n",
       "count      24000\n",
       "unique     23934\n",
       "top     At work \n",
       "freq           5"
      ]
     },
     "execution_count": 64,
     "metadata": {},
     "output_type": "execute_result"
    }
   ],
   "source": [
    "df.describe(include=object)"
   ]
  },
  {
   "cell_type": "code",
   "execution_count": 65,
   "id": "372a600b",
   "metadata": {
    "colab": {
     "base_uri": "https://localhost:8080/",
     "height": 100
    },
    "execution": {
     "iopub.execute_input": "2023-03-15T07:01:56.395782Z",
     "iopub.status.busy": "2023-03-15T07:01:56.395304Z",
     "iopub.status.idle": "2023-03-15T07:01:56.416466Z",
     "shell.execute_reply": "2023-03-15T07:01:56.415179Z",
     "shell.execute_reply.started": "2023-03-15T07:01:56.395738Z"
    },
    "id": "546e7046",
    "outputId": "2dda8205-38f1-4774-c945-5e5dd45e4e77"
   },
   "outputs": [
    {
     "name": "stdout",
     "output_type": "stream",
     "text": [
      "Null Values of Dataset :\n"
     ]
    },
    {
     "data": {
      "text/html": [
       "<div>\n",
       "<style scoped>\n",
       "    .dataframe tbody tr th:only-of-type {\n",
       "        vertical-align: middle;\n",
       "    }\n",
       "\n",
       "    .dataframe tbody tr th {\n",
       "        vertical-align: top;\n",
       "    }\n",
       "\n",
       "    .dataframe thead th {\n",
       "        text-align: right;\n",
       "    }\n",
       "</style>\n",
       "<table border=\"1\" class=\"dataframe\">\n",
       "  <thead>\n",
       "    <tr style=\"text-align: right;\">\n",
       "      <th></th>\n",
       "      <th>0</th>\n",
       "    </tr>\n",
       "  </thead>\n",
       "  <tbody>\n",
       "    <tr>\n",
       "      <th>label</th>\n",
       "      <td>0</td>\n",
       "    </tr>\n",
       "    <tr>\n",
       "      <th>Text</th>\n",
       "      <td>0</td>\n",
       "    </tr>\n",
       "  </tbody>\n",
       "</table>\n",
       "</div>"
      ],
      "text/plain": [
       "       0\n",
       "label  0\n",
       "Text   0"
      ]
     },
     "execution_count": 65,
     "metadata": {},
     "output_type": "execute_result"
    }
   ],
   "source": [
    "print(\"Null Values of Dataset :\")\n",
    "df.isna().sum().to_frame()"
   ]
  },
  {
   "cell_type": "code",
   "execution_count": 66,
   "id": "fcf9d63a",
   "metadata": {
    "colab": {
     "base_uri": "https://localhost:8080/",
     "height": 100
    },
    "execution": {
     "iopub.execute_input": "2023-03-15T07:01:59.680221Z",
     "iopub.status.busy": "2023-03-15T07:01:59.679689Z",
     "iopub.status.idle": "2023-03-15T07:01:59.709244Z",
     "shell.execute_reply": "2023-03-15T07:01:59.707683Z",
     "shell.execute_reply.started": "2023-03-15T07:01:59.680121Z"
    },
    "id": "5671a726",
    "outputId": "0d9e6531-6eb7-4aca-b0f9-1aad475b14a8"
   },
   "outputs": [
    {
     "name": "stdout",
     "output_type": "stream",
     "text": [
      "After Dropping, Null Values of  Dataset :\n"
     ]
    },
    {
     "data": {
      "text/html": [
       "<div>\n",
       "<style scoped>\n",
       "    .dataframe tbody tr th:only-of-type {\n",
       "        vertical-align: middle;\n",
       "    }\n",
       "\n",
       "    .dataframe tbody tr th {\n",
       "        vertical-align: top;\n",
       "    }\n",
       "\n",
       "    .dataframe thead th {\n",
       "        text-align: right;\n",
       "    }\n",
       "</style>\n",
       "<table border=\"1\" class=\"dataframe\">\n",
       "  <thead>\n",
       "    <tr style=\"text-align: right;\">\n",
       "      <th></th>\n",
       "      <th>0</th>\n",
       "    </tr>\n",
       "  </thead>\n",
       "  <tbody>\n",
       "    <tr>\n",
       "      <th>label</th>\n",
       "      <td>0</td>\n",
       "    </tr>\n",
       "    <tr>\n",
       "      <th>Text</th>\n",
       "      <td>0</td>\n",
       "    </tr>\n",
       "  </tbody>\n",
       "</table>\n",
       "</div>"
      ],
      "text/plain": [
       "       0\n",
       "label  0\n",
       "Text   0"
      ]
     },
     "execution_count": 66,
     "metadata": {},
     "output_type": "execute_result"
    }
   ],
   "source": [
    "print(\"After Dropping, Null Values of  Dataset :\")\n",
    "df.dropna(axis = 0, inplace = True)\n",
    "df.isna().sum().to_frame()"
   ]
  },
  {
   "cell_type": "code",
   "execution_count": 67,
   "id": "a0de086e",
   "metadata": {
    "colab": {
     "base_uri": "https://localhost:8080/"
    },
    "execution": {
     "iopub.execute_input": "2023-03-15T07:02:03.403660Z",
     "iopub.status.busy": "2023-03-15T07:02:03.402741Z",
     "iopub.status.idle": "2023-03-15T07:02:03.417589Z",
     "shell.execute_reply": "2023-03-15T07:02:03.416210Z",
     "shell.execute_reply.started": "2023-03-15T07:02:03.403612Z"
    },
    "id": "a5106f02",
    "outputId": "74683ce0-1be1-4b96-defa-43c208c2c8a5"
   },
   "outputs": [
    {
     "name": "stdout",
     "output_type": "stream",
     "text": [
      "There are 62 duplicate entries among 24000 entries in  dataset.\n"
     ]
    }
   ],
   "source": [
    "dup_df = df[df.duplicated()].shape[0]\n",
    "print(f\"There are {dup_df} duplicate entries among {df.shape[0]} entries in  dataset.\")"
   ]
  },
  {
   "cell_type": "code",
   "execution_count": 68,
   "id": "f0ecc000",
   "metadata": {
    "execution": {
     "iopub.execute_input": "2023-03-15T07:02:06.392305Z",
     "iopub.status.busy": "2023-03-15T07:02:06.390991Z",
     "iopub.status.idle": "2023-03-15T07:02:06.399617Z",
     "shell.execute_reply": "2023-03-15T07:02:06.398174Z",
     "shell.execute_reply.started": "2023-03-15T07:02:06.392250Z"
    },
    "id": "f305b193"
   },
   "outputs": [],
   "source": [
    "df = df.sample(frac = 1)"
   ]
  },
  {
   "cell_type": "code",
   "execution_count": 69,
   "id": "cddf2d38",
   "metadata": {
    "colab": {
     "base_uri": "https://localhost:8080/",
     "height": 81
    },
    "execution": {
     "iopub.execute_input": "2023-03-15T07:02:11.706977Z",
     "iopub.status.busy": "2023-03-15T07:02:11.706512Z",
     "iopub.status.idle": "2023-03-15T07:02:11.724291Z",
     "shell.execute_reply": "2023-03-15T07:02:11.723253Z",
     "shell.execute_reply.started": "2023-03-15T07:02:11.706939Z"
    },
    "id": "5c6f155d",
    "outputId": "cfc989e3-f325-4f9e-8ff8-c42fe3bce3c9"
   },
   "outputs": [
    {
     "data": {
      "text/html": [
       "<div>\n",
       "<style scoped>\n",
       "    .dataframe tbody tr th:only-of-type {\n",
       "        vertical-align: middle;\n",
       "    }\n",
       "\n",
       "    .dataframe tbody tr th {\n",
       "        vertical-align: top;\n",
       "    }\n",
       "\n",
       "    .dataframe thead th {\n",
       "        text-align: right;\n",
       "    }\n",
       "</style>\n",
       "<table border=\"1\" class=\"dataframe\">\n",
       "  <thead>\n",
       "    <tr style=\"text-align: right;\">\n",
       "      <th></th>\n",
       "      <th>label</th>\n",
       "    </tr>\n",
       "  </thead>\n",
       "  <tbody>\n",
       "    <tr>\n",
       "      <th>0.0</th>\n",
       "      <td>12000</td>\n",
       "    </tr>\n",
       "    <tr>\n",
       "      <th>1.0</th>\n",
       "      <td>12000</td>\n",
       "    </tr>\n",
       "  </tbody>\n",
       "</table>\n",
       "</div>"
      ],
      "text/plain": [
       "     label\n",
       "0.0  12000\n",
       "1.0  12000"
      ]
     },
     "execution_count": 69,
     "metadata": {},
     "output_type": "execute_result"
    }
   ],
   "source": [
    "df['label'].value_counts().to_frame()"
   ]
  },
  {
   "cell_type": "markdown",
   "id": "747a4cb3",
   "metadata": {},
   "source": []
  },
  {
   "cell_type": "markdown",
   "id": "b33b239d",
   "metadata": {
    "id": "698bfe31"
   },
   "source": [
    "\n",
    "# Dataset Visualization"
   ]
  },
  {
   "cell_type": "code",
   "execution_count": 70,
   "id": "14282b7c",
   "metadata": {
    "colab": {
     "base_uri": "https://localhost:8080/",
     "height": 278
    },
    "execution": {
     "iopub.execute_input": "2023-03-15T07:06:01.704120Z",
     "iopub.status.busy": "2023-03-15T07:06:01.702883Z",
     "iopub.status.idle": "2023-03-15T07:06:01.919514Z",
     "shell.execute_reply": "2023-03-15T07:06:01.917657Z",
     "shell.execute_reply.started": "2023-03-15T07:06:01.704067Z"
    },
    "id": "60c1e9b6",
    "outputId": "a984f449-0275-4897-d0db-b972a41c9dd7",
    "scrolled": true
   },
   "outputs": [
    {
     "data": {
      "image/png": "[encoded data removed]",
      "text/plain": [
       "<Figure size 640x480 with 1 Axes>"
      ]
     },
     "metadata": {},
     "output_type": "display_data"
    }
   ],
   "source": [
    "df.label.value_counts().plot(kind='bar')\n",
    "plt.title('Label distribution: 1 -anxiety/depression')\n",
    "plt.grid()\n",
    "plt.show()"
   ]
  },
  {
   "cell_type": "code",
   "execution_count": 71,
   "id": "3a199f42",
   "metadata": {
    "execution": {
     "iopub.execute_input": "2023-03-15T07:06:27.298228Z",
     "iopub.status.busy": "2023-03-15T07:06:27.297754Z",
     "iopub.status.idle": "2023-03-15T07:06:27.304745Z",
     "shell.execute_reply": "2023-03-15T07:06:27.303009Z",
     "shell.execute_reply.started": "2023-03-15T07:06:27.298185Z"
    },
    "id": "70b4d1df"
   },
   "outputs": [],
   "source": [
    "from wordcloud import WordCloud"
   ]
  },
  {
   "cell_type": "markdown",
   "id": "cf539339",
   "metadata": {
    "id": "0400fa94"
   },
   "source": [
    "\n",
    "# Preprocessing Text\n"
   ]
  },
  {
   "cell_type": "code",
   "execution_count": 72,
   "id": "dac756d2",
   "metadata": {
    "colab": {
     "base_uri": "https://localhost:8080/"
    },
    "execution": {
     "iopub.execute_input": "2023-03-15T07:07:14.677814Z",
     "iopub.status.busy": "2023-03-15T07:07:14.676998Z",
     "iopub.status.idle": "2023-03-15T07:07:14.688804Z",
     "shell.execute_reply": "2023-03-15T07:07:14.687428Z",
     "shell.execute_reply.started": "2023-03-15T07:07:14.677770Z"
    },
    "id": "dfcf5a7e",
    "outputId": "86f88a8b-bc61-4a32-e62d-9789453fc16e"
   },
   "outputs": [],
   "source": [
    "import nltk\n",
    "from nltk.corpus import stopwords\n",
    "from nltk.stem import WordNetLemmatizer\n",
    "import string\n",
    "from bs4 import BeautifulSoup"
   ]
  },
  {
   "cell_type": "markdown",
   "id": "e9853c6f",
   "metadata": {
    "id": "cb7dbfbe"
   },
   "source": [
    " ## Contraction Mapping"
   ]
  },
  {
   "cell_type": "code",
   "execution_count": 73,
   "id": "66028acb",
   "metadata": {
    "execution": {
     "iopub.execute_input": "2023-03-15T07:18:08.613034Z",
     "iopub.status.busy": "2023-03-15T07:18:08.611714Z",
     "iopub.status.idle": "2023-03-15T07:18:08.627327Z",
     "shell.execute_reply": "2023-03-15T07:18:08.626062Z",
     "shell.execute_reply.started": "2023-03-15T07:18:08.612985Z"
    },
    "id": "494a8965"
   },
   "outputs": [],
   "source": [
    "contraction_mapping = {\"ain't\": \"is not\", \"aren't\": \"are not\",\"can't\": \"cannot\", \"'cause\": \"because\", \"could've\": \"could have\", \"couldn't\": \"could not\",\n",
    "                           \"didn't\": \"did not\",  \"doesn't\": \"does not\", \"don't\": \"do not\", \"hadn't\": \"had not\", \"hasn't\": \"has not\", \"haven't\": \"have not\",\n",
    "                           \"he'd\": \"he would\",\"he'll\": \"he will\", \"he's\": \"he is\", \"how'd\": \"how did\", \"how'd'y\": \"how do you\", \"how'll\": \"how will\", \"how's\": \"how is\",\n",
    "                           \"I'd\": \"I would\", \"I'd've\": \"I would have\", \"I'll\": \"I will\", \"I'll've\": \"I will have\",\"I'm\": \"I am\", \"I've\": \"I have\", \"i'd\": \"i would\",\n",
    "                           \"i'd've\": \"i would have\", \"i'll\": \"i will\",  \"i'll've\": \"i will have\",\"i'm\": \"i am\", \"i've\": \"i have\", \"isn't\": \"is not\", \"it'd\": \"it would\",\n",
    "                           \"it'd've\": \"it would have\", \"it'll\": \"it will\", \"it'll've\": \"it will have\",\"it's\": \"it is\", \"let's\": \"let us\", \"ma'am\": \"madam\",\n",
    "                           \"mayn't\": \"may not\", \"might've\": \"might have\",\"mightn't\": \"might not\",\"mightn't've\": \"might not have\", \"must've\": \"must have\",\n",
    "                           \"mustn't\": \"must not\", \"mustn't've\": \"must not have\", \"needn't\": \"need not\", \"needn't've\": \"need not have\",\"o'clock\": \"of the clock\",\n",
    "                           \"oughtn't\": \"ought not\", \"oughtn't've\": \"ought not have\", \"shan't\": \"shall not\", \"sha'n't\": \"shall not\", \"shan't've\": \"shall not have\",\n",
    "                           \"she'd\": \"she would\", \"she'd've\": \"she would have\", \"she'll\": \"she will\", \"she'll've\": \"she will have\", \"she's\": \"she is\",\n",
    "                           \"should've\": \"should have\", \"shouldn't\": \"should not\", \"shouldn't've\": \"should not have\", \"so've\": \"so have\",\"so's\": \"so as\",\n",
    "                           \"this's\": \"this is\",\"that'd\": \"that would\", \"that'd've\": \"that would have\", \"that's\": \"that is\", \"there'd\": \"there would\",\n",
    "                           \"there'd've\": \"there would have\", \"there's\": \"there is\", \"here's\": \"here is\",\"they'd\": \"they would\", \"they'd've\": \"they would have\",\n",
    "                           \"they'll\": \"they will\", \"they'll've\": \"they will have\", \"they're\": \"they are\", \"they've\": \"they have\", \"to've\": \"to have\",\n",
    "                           \"wasn't\": \"was not\", \"we'd\": \"we would\", \"we'd've\": \"we would have\", \"we'll\": \"we will\", \"we'll've\": \"we will have\", \"we're\": \"we are\",\n",
    "                           \"we've\": \"we have\", \"weren't\": \"were not\", \"what'll\": \"what will\", \"what'll've\": \"what will have\", \"what're\": \"what are\",\n",
    "                           \"what's\": \"what is\", \"what've\": \"what have\", \"when's\": \"when is\", \"when've\": \"when have\", \"where'd\": \"where did\", \"where's\": \"where is\",\n",
    "                           \"where've\": \"where have\", \"who'll\": \"who will\", \"who'll've\": \"who will have\", \"who's\": \"who is\", \"who've\": \"who have\",\n",
    "                           \"why's\": \"why is\", \"why've\": \"why have\", \"will've\": \"will have\", \"won't\": \"will not\", \"won't've\": \"will not have\",\n",
    "                           \"would've\": \"would have\", \"wouldn't\": \"would not\", \"wouldn't've\": \"would not have\", \"y'all\": \"you all\",\n",
    "                           \"y'all'd\": \"you all would\",\"y'all'd've\": \"you all would have\",\"y'all're\": \"you all are\",\"y'all've\": \"you all have\",\n",
    "                           \"you'd\": \"you would\", \"you'd've\": \"you would have\", \"you'll\": \"you will\", \"you'll've\": \"you will have\",\n",
    "                           \"you're\": \"you are\", \"you've\": \"you have\"}"
   ]
  },
  {
   "cell_type": "code",
   "execution_count": 74,
   "id": "df7054d4",
   "metadata": {
    "execution": {
     "iopub.execute_input": "2023-03-15T07:18:24.595182Z",
     "iopub.status.busy": "2023-03-15T07:18:24.594752Z",
     "iopub.status.idle": "2023-03-15T07:18:24.603706Z",
     "shell.execute_reply": "2023-03-15T07:18:24.602236Z",
     "shell.execute_reply.started": "2023-03-15T07:18:24.595144Z"
    },
    "id": "3b19914a"
   },
   "outputs": [],
   "source": [
    "def text_cleaner(text):\n",
    "    newString = text.lower()\n",
    "    newString = BeautifulSoup(newString, \"lxml\").text\n",
    "    newString = re.sub(r'\\([^)]*\\)', '', newString)\n",
    "    newString = re.sub('\"','', newString)\n",
    "    newString = ' '.join([contraction_mapping[t] if t in contraction_mapping else t for t in newString.split(\" \")])    \n",
    "    newString = re.sub(r\"'s\\b\",\"\",newString)\n",
    "    newString = re.sub(\"[^a-zA-Z]\", \" \", newString) \n",
    "    newString = re.sub('[m]{2,}', 'mm', newString)\n",
    "    return newString"
   ]
  },
  {
   "cell_type": "code",
   "execution_count": 75,
   "id": "969f013c",
   "metadata": {
    "colab": {
     "base_uri": "https://localhost:8080/"
    },
    "execution": {
     "iopub.execute_input": "2023-03-15T07:18:50.485982Z",
     "iopub.status.busy": "2023-03-15T07:18:50.485449Z",
     "iopub.status.idle": "2023-03-15T07:18:50.508245Z",
     "shell.execute_reply": "2023-03-15T07:18:50.506014Z",
     "shell.execute_reply.started": "2023-03-15T07:18:50.485937Z"
    },
    "id": "c0d9cb2b",
    "outputId": "2edb0b9e-8fb1-4c72-9f9e-fddec466c59e",
    "scrolled": true
   },
   "outputs": [
    {
     "name": "stdout",
     "output_type": "stream",
     "text": [
      "         label                                               Text\n",
      "1594182    0.0  Yay, going to Sthlm on Thursday to see Moa, go...\n",
      "1722       1.0  Arghh! My hands are itchy!! Could it be that o...\n",
      "6313       1.0  @ohsuperheroine My wife and I have been togeth...\n",
      "7423       1.0                        school till 5 today  boooo!\n",
      "1596119    0.0                     @MacTeabird lmao, sounds good \n",
      "...        ...                                                ...\n",
      "1593320    0.0                    Working 9-4 then 311 concert!! \n",
      "9010       1.0  Kitty #2 is sitting at the window crying. I th...\n",
      "1591390    0.0  the UST eng'g building is HOT!  if u know what...\n",
      "1593161    0.0                              @ZoeAimee yes it is! \n",
      "1591660    0.0  @zelciia hehe.. the smell of durians make my m...\n",
      "\n",
      "[24000 rows x 2 columns]\n"
     ]
    }
   ],
   "source": [
    "print(df)"
   ]
  },
  {
   "cell_type": "code",
   "execution_count": 76,
   "id": "8238d5f1",
   "metadata": {
    "execution": {
     "iopub.execute_input": "2023-03-15T07:18:54.368501Z",
     "iopub.status.busy": "2023-03-15T07:18:54.368048Z",
     "iopub.status.idle": "2023-03-15T07:18:56.551326Z",
     "shell.execute_reply": "2023-03-15T07:18:56.549607Z",
     "shell.execute_reply.started": "2023-03-15T07:18:54.368455Z"
    },
    "id": "2129db97",
    "scrolled": true
   },
   "outputs": [],
   "source": [
    "df['cleaned'] = df[\"Text\"].apply(text_cleaner)"
   ]
  },
  {
   "cell_type": "code",
   "execution_count": 77,
   "id": "67bd241a",
   "metadata": {},
   "outputs": [
    {
     "data": {
      "text/plain": [
       "1594182    Yay, going to Sthlm on Thursday to see Moa, go...\n",
       "1722       Arghh! My hands are itchy!! Could it be that o...\n",
       "6313       @ohsuperheroine My wife and I have been togeth...\n",
       "7423                             school till 5 today  boooo!\n",
       "1596119                       @MacTeabird lmao, sounds good \n",
       "                                 ...                        \n",
       "1593320                      Working 9-4 then 311 concert!! \n",
       "9010       Kitty #2 is sitting at the window crying. I th...\n",
       "1591390    the UST eng'g building is HOT!  if u know what...\n",
       "1593161                                @ZoeAimee yes it is! \n",
       "1591660    @zelciia hehe.. the smell of durians make my m...\n",
       "Name: Text, Length: 24000, dtype: object"
      ]
     },
     "execution_count": 77,
     "metadata": {},
     "output_type": "execute_result"
    }
   ],
   "source": [
    "df[\"Text\"]"
   ]
  },
  {
   "cell_type": "code",
   "execution_count": 78,
   "id": "ffbb2978",
   "metadata": {},
   "outputs": [
    {
     "data": {
      "text/plain": [
       "1594182    yay  going to sthlm on thursday to see moa  go...\n",
       "1722       arghh  my hands are itchy   could it be that o...\n",
       "6313        ohsuperheroine my wife and i have been togeth...\n",
       "7423                             school till   today  boooo \n",
       "1596119                        macteabird lmao  sounds good \n",
       "                                 ...                        \n",
       "1593320                      working     then     concert   \n",
       "9010       kitty    is sitting at the window crying  i th...\n",
       "1591390    the ust eng g building is hot   if u know what...\n",
       "1593161                                 zoeaimee yes it is  \n",
       "1591660     zelciia hehe   the smell of durians make my m...\n",
       "Name: cleaned, Length: 24000, dtype: object"
      ]
     },
     "execution_count": 78,
     "metadata": {},
     "output_type": "execute_result"
    }
   ],
   "source": [
    "df['cleaned']"
   ]
  },
  {
   "cell_type": "markdown",
   "id": "febaf477",
   "metadata": {
    "id": "1521df9f"
   },
   "source": [
    "\n",
    "# MACHINE LEARNING MODEL"
   ]
  },
  {
   "cell_type": "markdown",
   "id": "71b9893a",
   "metadata": {
    "id": "7552b8f4"
   },
   "source": [
    "## Feature Extraction with TF-IDF Vectorizer"
   ]
  },
  {
   "cell_type": "code",
   "execution_count": 79,
   "id": "116615a9",
   "metadata": {
    "execution": {
     "iopub.execute_input": "2023-03-15T07:21:17.140004Z",
     "iopub.status.busy": "2023-03-15T07:21:17.139525Z",
     "iopub.status.idle": "2023-03-15T07:21:17.145992Z",
     "shell.execute_reply": "2023-03-15T07:21:17.144468Z",
     "shell.execute_reply.started": "2023-03-15T07:21:17.139959Z"
    },
    "id": "be60dc71"
   },
   "outputs": [],
   "source": [
    "X = df.cleaned"
   ]
  },
  {
   "cell_type": "code",
   "execution_count": 80,
   "id": "90289270",
   "metadata": {
    "execution": {
     "iopub.execute_input": "2023-03-15T07:21:19.764296Z",
     "iopub.status.busy": "2023-03-15T07:21:19.763412Z",
     "iopub.status.idle": "2023-03-15T07:21:19.771100Z",
     "shell.execute_reply": "2023-03-15T07:21:19.769314Z",
     "shell.execute_reply.started": "2023-03-15T07:21:19.764211Z"
    },
    "id": "bc8d4c84"
   },
   "outputs": [],
   "source": [
    "#vect = CountVectorizer(ngram_range=(1, 2))\n",
    "#y = df.label\n",
    "\n",
    "vect = TfidfVectorizer()"
   ]
  },
  {
   "cell_type": "code",
   "execution_count": 81,
   "id": "af3d0627",
   "metadata": {
    "execution": {
     "iopub.execute_input": "2023-03-15T07:21:23.777849Z",
     "iopub.status.busy": "2023-03-15T07:21:23.777145Z",
     "iopub.status.idle": "2023-03-15T07:21:24.354791Z",
     "shell.execute_reply": "2023-03-15T07:21:24.353593Z",
     "shell.execute_reply.started": "2023-03-15T07:21:23.777794Z"
    },
    "id": "80ff56e1",
    "scrolled": true
   },
   "outputs": [],
   "source": [
    "X_cv =vect.fit_transform(X)"
   ]
  },
  {
   "cell_type": "code",
   "execution_count": 82,
   "id": "eb648df2",
   "metadata": {},
   "outputs": [
    {
     "data": {
      "text/html": [
       "<div>\n",
       "<style scoped>\n",
       "    .dataframe tbody tr th:only-of-type {\n",
       "        vertical-align: middle;\n",
       "    }\n",
       "\n",
       "    .dataframe tbody tr th {\n",
       "        vertical-align: top;\n",
       "    }\n",
       "\n",
       "    .dataframe thead th {\n",
       "        text-align: right;\n",
       "    }\n",
       "</style>\n",
       "<table border=\"1\" class=\"dataframe\">\n",
       "  <thead>\n",
       "    <tr style=\"text-align: right;\">\n",
       "      <th></th>\n",
       "      <th>aa</th>\n",
       "      <th>aaa</th>\n",
       "      <th>aaaa</th>\n",
       "      <th>aaaaaaaa</th>\n",
       "      <th>aaaaaaaaaah</th>\n",
       "      <th>aaaaaaaaah</th>\n",
       "      <th>aaaaaaw</th>\n",
       "      <th>aaaaaawwwwwwwwwwwwww</th>\n",
       "      <th>aaaaah</th>\n",
       "      <th>aaaaalll</th>\n",
       "      <th>...</th>\n",
       "      <th>zy</th>\n",
       "      <th>zyngapoker</th>\n",
       "      <th>zyrtec</th>\n",
       "      <th>zz</th>\n",
       "      <th>zzap</th>\n",
       "      <th>zzj</th>\n",
       "      <th>zzz</th>\n",
       "      <th>zzzz</th>\n",
       "      <th>zzzzzz</th>\n",
       "      <th>zzzzzzzzzzzzz</th>\n",
       "    </tr>\n",
       "  </thead>\n",
       "  <tbody>\n",
       "    <tr>\n",
       "      <th>0</th>\n",
       "      <td>0.0</td>\n",
       "      <td>0.0</td>\n",
       "      <td>0.0</td>\n",
       "      <td>0.0</td>\n",
       "      <td>0.0</td>\n",
       "      <td>0.0</td>\n",
       "      <td>0.0</td>\n",
       "      <td>0.0</td>\n",
       "      <td>0.0</td>\n",
       "      <td>0.0</td>\n",
       "      <td>...</td>\n",
       "      <td>0.0</td>\n",
       "      <td>0.0</td>\n",
       "      <td>0.0</td>\n",
       "      <td>0.0</td>\n",
       "      <td>0.0</td>\n",
       "      <td>0.0</td>\n",
       "      <td>0.0</td>\n",
       "      <td>0.0</td>\n",
       "      <td>0.0</td>\n",
       "      <td>0.0</td>\n",
       "    </tr>\n",
       "    <tr>\n",
       "      <th>1</th>\n",
       "      <td>0.0</td>\n",
       "      <td>0.0</td>\n",
       "      <td>0.0</td>\n",
       "      <td>0.0</td>\n",
       "      <td>0.0</td>\n",
       "      <td>0.0</td>\n",
       "      <td>0.0</td>\n",
       "      <td>0.0</td>\n",
       "      <td>0.0</td>\n",
       "      <td>0.0</td>\n",
       "      <td>...</td>\n",
       "      <td>0.0</td>\n",
       "      <td>0.0</td>\n",
       "      <td>0.0</td>\n",
       "      <td>0.0</td>\n",
       "      <td>0.0</td>\n",
       "      <td>0.0</td>\n",
       "      <td>0.0</td>\n",
       "      <td>0.0</td>\n",
       "      <td>0.0</td>\n",
       "      <td>0.0</td>\n",
       "    </tr>\n",
       "    <tr>\n",
       "      <th>2</th>\n",
       "      <td>0.0</td>\n",
       "      <td>0.0</td>\n",
       "      <td>0.0</td>\n",
       "      <td>0.0</td>\n",
       "      <td>0.0</td>\n",
       "      <td>0.0</td>\n",
       "      <td>0.0</td>\n",
       "      <td>0.0</td>\n",
       "      <td>0.0</td>\n",
       "      <td>0.0</td>\n",
       "      <td>...</td>\n",
       "      <td>0.0</td>\n",
       "      <td>0.0</td>\n",
       "      <td>0.0</td>\n",
       "      <td>0.0</td>\n",
       "      <td>0.0</td>\n",
       "      <td>0.0</td>\n",
       "      <td>0.0</td>\n",
       "      <td>0.0</td>\n",
       "      <td>0.0</td>\n",
       "      <td>0.0</td>\n",
       "    </tr>\n",
       "    <tr>\n",
       "      <th>3</th>\n",
       "      <td>0.0</td>\n",
       "      <td>0.0</td>\n",
       "      <td>0.0</td>\n",
       "      <td>0.0</td>\n",
       "      <td>0.0</td>\n",
       "      <td>0.0</td>\n",
       "      <td>0.0</td>\n",
       "      <td>0.0</td>\n",
       "      <td>0.0</td>\n",
       "      <td>0.0</td>\n",
       "      <td>...</td>\n",
       "      <td>0.0</td>\n",
       "      <td>0.0</td>\n",
       "      <td>0.0</td>\n",
       "      <td>0.0</td>\n",
       "      <td>0.0</td>\n",
       "      <td>0.0</td>\n",
       "      <td>0.0</td>\n",
       "      <td>0.0</td>\n",
       "      <td>0.0</td>\n",
       "      <td>0.0</td>\n",
       "    </tr>\n",
       "    <tr>\n",
       "      <th>4</th>\n",
       "      <td>0.0</td>\n",
       "      <td>0.0</td>\n",
       "      <td>0.0</td>\n",
       "      <td>0.0</td>\n",
       "      <td>0.0</td>\n",
       "      <td>0.0</td>\n",
       "      <td>0.0</td>\n",
       "      <td>0.0</td>\n",
       "      <td>0.0</td>\n",
       "      <td>0.0</td>\n",
       "      <td>...</td>\n",
       "      <td>0.0</td>\n",
       "      <td>0.0</td>\n",
       "      <td>0.0</td>\n",
       "      <td>0.0</td>\n",
       "      <td>0.0</td>\n",
       "      <td>0.0</td>\n",
       "      <td>0.0</td>\n",
       "      <td>0.0</td>\n",
       "      <td>0.0</td>\n",
       "      <td>0.0</td>\n",
       "    </tr>\n",
       "  </tbody>\n",
       "</table>\n",
       "<p>5 rows × 31730 columns</p>\n",
       "</div>"
      ],
      "text/plain": [
       "    aa  aaa  aaaa  aaaaaaaa  aaaaaaaaaah  aaaaaaaaah  aaaaaaw  \\\n",
       "0  0.0  0.0   0.0       0.0          0.0         0.0      0.0   \n",
       "1  0.0  0.0   0.0       0.0          0.0         0.0      0.0   \n",
       "2  0.0  0.0   0.0       0.0          0.0         0.0      0.0   \n",
       "3  0.0  0.0   0.0       0.0          0.0         0.0      0.0   \n",
       "4  0.0  0.0   0.0       0.0          0.0         0.0      0.0   \n",
       "\n",
       "   aaaaaawwwwwwwwwwwwww  aaaaah  aaaaalll  ...   zy  zyngapoker  zyrtec   zz  \\\n",
       "0                   0.0     0.0       0.0  ...  0.0         0.0     0.0  0.0   \n",
       "1                   0.0     0.0       0.0  ...  0.0         0.0     0.0  0.0   \n",
       "2                   0.0     0.0       0.0  ...  0.0         0.0     0.0  0.0   \n",
       "3                   0.0     0.0       0.0  ...  0.0         0.0     0.0  0.0   \n",
       "4                   0.0     0.0       0.0  ...  0.0         0.0     0.0  0.0   \n",
       "\n",
       "   zzap  zzj  zzz  zzzz  zzzzzz  zzzzzzzzzzzzz  \n",
       "0   0.0  0.0  0.0   0.0     0.0            0.0  \n",
       "1   0.0  0.0  0.0   0.0     0.0            0.0  \n",
       "2   0.0  0.0  0.0   0.0     0.0            0.0  \n",
       "3   0.0  0.0  0.0   0.0     0.0            0.0  \n",
       "4   0.0  0.0  0.0   0.0     0.0            0.0  \n",
       "\n",
       "[5 rows x 31730 columns]"
      ]
     },
     "execution_count": 82,
     "metadata": {},
     "output_type": "execute_result"
    }
   ],
   "source": [
    "train_tfidf = pd.DataFrame(X_cv.toarray(), columns=vect.get_feature_names())\n",
    "train_tfidf.head()"
   ]
  },
  {
   "cell_type": "code",
   "execution_count": null,
   "id": "f992fea4",
   "metadata": {
    "execution": {
     "iopub.execute_input": "2023-03-15T07:29:03.216828Z",
     "iopub.status.busy": "2023-03-15T07:29:03.216261Z",
     "iopub.status.idle": "2023-03-15T07:29:04.649012Z",
     "shell.execute_reply": "2023-03-15T07:29:04.647337Z",
     "shell.execute_reply.started": "2023-03-15T07:29:03.216776Z"
    },
    "id": "cdeaa93e"
   },
   "outputs": [],
   "source": [
    "X_train,X_test,y_train,y_test = train_test_split(X_cv,y,test_size = 0.2,random_state = 50)"
   ]
  },
  {
   "cell_type": "code",
   "execution_count": null,
   "id": "b883a9c6",
   "metadata": {
    "execution": {
     "iopub.execute_input": "2023-03-15T07:29:08.413197Z",
     "iopub.status.busy": "2023-03-15T07:29:08.412682Z",
     "iopub.status.idle": "2023-03-15T07:29:08.420679Z",
     "shell.execute_reply": "2023-03-15T07:29:08.418958Z",
     "shell.execute_reply.started": "2023-03-15T07:29:08.413096Z"
    },
    "id": "81746d91"
   },
   "outputs": [],
   "source": [
    "from sklearn.linear_model import LogisticRegression\n",
    "from sklearn.naive_bayes import MultinomialNB\n",
    "from sklearn.tree import DecisionTreeClassifier\n",
    "from sklearn.svm import SVC\n",
    "from sklearn.neighbors import KNeighborsClassifier\n",
    "from sklearn.ensemble import RandomForestClassifier, AdaBoostClassifier,VotingClassifier\n",
    "from sklearn.ensemble import BaggingClassifier\n",
    "from sklearn.metrics import classification_report,confusion_matrix,accuracy_score\n",
    "from sklearn.model_selection import GridSearchCV"
   ]
  },
  {
   "cell_type": "code",
   "execution_count": null,
   "id": "403b1711",
   "metadata": {
    "execution": {
     "iopub.execute_input": "2023-03-15T07:29:14.630019Z",
     "iopub.status.busy": "2023-03-15T07:29:14.629091Z",
     "iopub.status.idle": "2023-03-15T07:29:14.639892Z",
     "shell.execute_reply": "2023-03-15T07:29:14.637800Z",
     "shell.execute_reply.started": "2023-03-15T07:29:14.629937Z"
    },
    "id": "f3944c52"
   },
   "outputs": [],
   "source": [
    "def performance_eval(clf,X_test):\n",
    "    y_pred = clf.predict(X_test)\n",
    "    print(f'Accuracy : {accuracy_score(x_test,x_pred)}\\n')\n",
    "    print('   ------------ Classification Report -----------')\n",
    "    print(classification_report(x_test,x_pred))\n",
    "    print('   ------------ Confusion Matrix -------------- ')\n",
    "    sns.set(rc={'figure.figsize':(10,6)})\n",
    "    sns.heatmap(confusion_matrix(y_test,y_pred),annot = True,fmt = 'd')"
   ]
  },
  {
   "cell_type": "code",
   "execution_count": null,
   "id": "14e1d4ed",
   "metadata": {},
   "outputs": [],
   "source": [
    "param_grid = {\n",
    "    'C': [0.001, 0.01, 0.1, 1, 10, 100],\n",
    "    'penalty': ['l1', 'l2']\n",
    "}"
   ]
  },
  {
   "cell_type": "markdown",
   "id": "9aaef799",
   "metadata": {
    "id": "e42e2fd8"
   },
   "source": [
    "# Logistic Regression"
   ]
  },
  {
   "cell_type": "code",
   "execution_count": null,
   "id": "ab7b2bae",
   "metadata": {
    "colab": {
     "base_uri": "https://localhost:8080/",
     "height": 614
    },
    "execution": {
     "iopub.execute_input": "2023-03-15T07:29:23.115705Z",
     "iopub.status.busy": "2023-03-15T07:29:23.115284Z",
     "iopub.status.idle": "2023-03-15T07:29:30.048815Z",
     "shell.execute_reply": "2023-03-15T07:29:30.047312Z",
     "shell.execute_reply.started": "2023-03-15T07:29:23.115667Z"
    },
    "id": "72ed1132",
    "outputId": "036fd138-0d00-44ed-d587-15ce62fde975",
    "scrolled": false
   },
   "outputs": [],
   "source": [
    "clf_lr = LogisticRegression()\n",
    "#grid_search = GridSearchCV(clf_lr, param_grid, cv=50)\n",
    "#grid_search.fit(X_train, y_train)\n",
    "#best_lr = grid_search.best_estimator_\n",
    "#performance_eval(best_lr, X_test)\n",
    "clf_lr.fit(X_train, y_train)\n",
    "performance_eval(clf_lr,X_test)"
   ]
  },
  {
   "cell_type": "markdown",
   "id": "ecab81c8",
   "metadata": {
    "id": "3b432dc2"
   },
   "source": [
    "# Naive Bayes"
   ]
  },
  {
   "cell_type": "code",
   "execution_count": null,
   "id": "b36ee2f9",
   "metadata": {
    "colab": {
     "base_uri": "https://localhost:8080/",
     "height": 614
    },
    "execution": {
     "iopub.execute_input": "2023-03-15T07:29:36.026331Z",
     "iopub.status.busy": "2023-03-15T07:29:36.025902Z",
     "iopub.status.idle": "2023-03-15T07:29:38.369401Z",
     "shell.execute_reply": "2023-03-15T07:29:38.367923Z",
     "shell.execute_reply.started": "2023-03-15T07:29:36.026293Z"
    },
    "id": "beca2003",
    "outputId": "f24795ec-f0f8-480d-aa53-60338ff8190b",
    "scrolled": false
   },
   "outputs": [],
   "source": [
    "clf_nb = MultinomialNB()\n",
    "clf_nb.fit(X_train, y_train)\n",
    "performance_eval(clf_nb,X_test)"
   ]
  },
  {
   "cell_type": "markdown",
   "id": "de3b3254",
   "metadata": {
    "id": "9c1015db"
   },
   "source": [
    "# Decision Tree"
   ]
  },
  {
   "cell_type": "code",
   "execution_count": null,
   "id": "1476c2ad",
   "metadata": {
    "colab": {
     "base_uri": "https://localhost:8080/",
     "height": 614
    },
    "execution": {
     "iopub.execute_input": "2023-03-15T07:29:48.981120Z",
     "iopub.status.busy": "2023-03-15T07:29:48.980532Z",
     "iopub.status.idle": "2023-03-15T07:31:44.699959Z",
     "shell.execute_reply": "2023-03-15T07:31:44.698417Z",
     "shell.execute_reply.started": "2023-03-15T07:29:48.981061Z"
    },
    "id": "f90ffe77",
    "outputId": "f3c9d8d8-43cb-41a8-84ef-f8ee5e28f24a"
   },
   "outputs": [],
   "source": [
    "clf_dt = DecisionTreeClassifier()\n",
    "clf_dt.fit(X_train, y_train)\n",
    "performance_eval(clf_dt,X_test)"
   ]
  },
  {
   "cell_type": "markdown",
   "id": "97eb19ea",
   "metadata": {
    "id": "9d49e992"
   },
   "source": [
    "# AdaBoost"
   ]
  },
  {
   "cell_type": "code",
   "execution_count": null,
   "id": "f151cc3b",
   "metadata": {
    "colab": {
     "base_uri": "https://localhost:8080/",
     "height": 614
    },
    "execution": {
     "iopub.execute_input": "2023-03-15T07:53:04.820419Z",
     "iopub.status.busy": "2023-03-15T07:53:04.819788Z",
     "iopub.status.idle": "2023-03-15T07:54:57.664858Z",
     "shell.execute_reply": "2023-03-15T07:54:57.663390Z",
     "shell.execute_reply.started": "2023-03-15T07:53:04.820365Z"
    },
    "id": "090b1c5d",
    "outputId": "6c6fa632-1b5e-4d36-9508-c75a1d83eda0"
   },
   "outputs": [],
   "source": [
    "clf_adb = AdaBoostClassifier(base_estimator=LogisticRegression(), n_estimators=50, random_state=42)\n",
    "clf_adb.fit(X_train, y_train)\n",
    "performance_eval(clf_adb,X_test)"
   ]
  },
  {
   "cell_type": "markdown",
   "id": "2f1a8509",
   "metadata": {
    "id": "f5c27f80"
   },
   "source": [
    "# Random Forest"
   ]
  },
  {
   "cell_type": "code",
   "execution_count": null,
   "id": "6928b42e",
   "metadata": {
    "colab": {
     "base_uri": "https://localhost:8080/",
     "height": 614
    },
    "execution": {
     "iopub.execute_input": "2023-03-15T07:55:08.170345Z",
     "iopub.status.busy": "2023-03-15T07:55:08.169410Z",
     "iopub.status.idle": "2023-03-15T07:56:32.218522Z",
     "shell.execute_reply": "2023-03-15T07:56:32.216934Z",
     "shell.execute_reply.started": "2023-03-15T07:55:08.170267Z"
    },
    "id": "c455635f",
    "outputId": "bca0ff84-dce5-4f75-a3ad-90f671443280",
    "scrolled": true
   },
   "outputs": [],
   "source": [
    "clf_rf = RandomForestClassifier()\n",
    "clf_rf.fit(X_train, y_train)\n",
    "performance_eval(clf_rf,X_test)"
   ]
  },
  {
   "cell_type": "code",
   "execution_count": null,
   "id": "1a085e3a",
   "metadata": {
    "colab": {
     "base_uri": "https://localhost:8080/",
     "height": 614
    },
    "execution": {
     "iopub.execute_input": "2023-03-15T07:56:49.159924Z",
     "iopub.status.busy": "2023-03-15T07:56:49.159301Z",
     "iopub.status.idle": "2023-03-15T08:09:36.844220Z",
     "shell.execute_reply": "2023-03-15T08:09:36.842698Z",
     "shell.execute_reply.started": "2023-03-15T07:56:49.159874Z"
    },
    "id": "25a0bb6d",
    "outputId": "0eea01df-b8cf-4856-f7ae-76d2e94e8c9f"
   },
   "outputs": [],
   "source": [
    "voting_clf = VotingClassifier(estimators=[('LogReg', clf_lr),('RF', clf_rf),('AdaBoost',clf_adb),('NB',clf_nb),('DT',clf_dt)],voting='hard')\n",
    "voting_clf.fit(X_train, y_train)\n",
    "performance_eval(voting_clf,X_test)"
   ]
  },
  {
   "cell_type": "code",
   "execution_count": 24,
   "id": "3a2ebd65",
   "metadata": {
    "execution": {
     "iopub.execute_input": "2023-03-15T08:12:04.911409Z",
     "iopub.status.busy": "2023-03-15T08:12:04.910835Z",
     "iopub.status.idle": "2023-03-15T08:12:09.159744Z",
     "shell.execute_reply": "2023-03-15T08:12:09.158263Z",
     "shell.execute_reply.started": "2023-03-15T08:12:04.911363Z"
    },
    "id": "138df25d"
   },
   "outputs": [
    {
     "ename": "NameError",
     "evalue": "name 'voting_clf' is not defined",
     "output_type": "error",
     "traceback": [
      "\u001b[0;31m---------------------------------------------------------------------------\u001b[0m",
      "\u001b[0;31mNameError\u001b[0m                                 Traceback (most recent call last)",
      "Cell \u001b[0;32mIn[24], line 3\u001b[0m\n\u001b[1;32m      1\u001b[0m \u001b[38;5;28;01mimport\u001b[39;00m \u001b[38;5;21;01mpickle\u001b[39;00m\n\u001b[1;32m      2\u001b[0m filename \u001b[38;5;241m=\u001b[39m \u001b[38;5;124m'\u001b[39m\u001b[38;5;124mCV_BestModel.sav\u001b[39m\u001b[38;5;124m'\u001b[39m\n\u001b[0;32m----> 3\u001b[0m pickle\u001b[38;5;241m.\u001b[39mdump(\u001b[43mvoting_clf\u001b[49m, \u001b[38;5;28mopen\u001b[39m(filename, \u001b[38;5;124m'\u001b[39m\u001b[38;5;124mwb\u001b[39m\u001b[38;5;124m'\u001b[39m))\n",
      "\u001b[0;31mNameError\u001b[0m: name 'voting_clf' is not defined"
     ]
    }
   ],
   "source": [
    "import pickle\n",
    "filename = 'CV_BestModel.sav'\n",
    "pickle.dump(voting_clf, open(filename, 'wb'))"
   ]
  },
  {
   "cell_type": "markdown",
   "id": "d0d594aa",
   "metadata": {
    "id": "c5920dfa"
   },
   "source": [
    "# RESULT EVALUATION"
   ]
  },
  {
   "cell_type": "code",
   "execution_count": 83,
   "id": "fadc07a6",
   "metadata": {
    "execution": {
     "iopub.execute_input": "2023-03-15T08:12:32.321423Z",
     "iopub.status.busy": "2023-03-15T08:12:32.320981Z",
     "iopub.status.idle": "2023-03-15T08:12:32.326794Z",
     "shell.execute_reply": "2023-03-15T08:12:32.325525Z",
     "shell.execute_reply.started": "2023-03-15T08:12:32.321382Z"
    },
    "id": "72b8477b"
   },
   "outputs": [],
   "source": [
    "text = \"i am so scared for this paper\""
   ]
  },
  {
   "cell_type": "code",
   "execution_count": 84,
   "id": "7cece4f7",
   "metadata": {
    "execution": {
     "iopub.execute_input": "2023-03-15T08:12:40.820977Z",
     "iopub.status.busy": "2023-03-15T08:12:40.820484Z",
     "iopub.status.idle": "2023-03-15T08:12:40.829887Z",
     "shell.execute_reply": "2023-03-15T08:12:40.828367Z",
     "shell.execute_reply.started": "2023-03-15T08:12:40.820914Z"
    },
    "id": "cd6f6589"
   },
   "outputs": [],
   "source": [
    "clean_text = text_cleaner(text)"
   ]
  },
  {
   "cell_type": "code",
   "execution_count": 85,
   "id": "baa2fb6f",
   "metadata": {
    "execution": {
     "iopub.execute_input": "2023-03-15T08:12:52.416215Z",
     "iopub.status.busy": "2023-03-15T08:12:52.415411Z",
     "iopub.status.idle": "2023-03-15T08:12:56.990675Z",
     "shell.execute_reply": "2023-03-15T08:12:56.988942Z",
     "shell.execute_reply.started": "2023-03-15T08:12:52.416157Z"
    },
    "id": "642f1010"
   },
   "outputs": [
    {
     "ename": "ValueError",
     "evalue": "X has 31730 features, but LogisticRegression is expecting 24060 features as input.",
     "output_type": "error",
     "traceback": [
      "\u001b[0;31m---------------------------------------------------------------------------\u001b[0m",
      "\u001b[0;31mValueError\u001b[0m                                Traceback (most recent call last)",
      "Cell \u001b[0;32mIn[85], line 2\u001b[0m\n\u001b[1;32m      1\u001b[0m loaded_model \u001b[38;5;241m=\u001b[39m pickle\u001b[38;5;241m.\u001b[39mload(\u001b[38;5;28mopen\u001b[39m(\u001b[38;5;124m'\u001b[39m\u001b[38;5;124mCV_BestModel.sav\u001b[39m\u001b[38;5;124m'\u001b[39m, \u001b[38;5;124m'\u001b[39m\u001b[38;5;124mrb\u001b[39m\u001b[38;5;124m'\u001b[39m))\n\u001b[0;32m----> 2\u001b[0m single_prediction \u001b[38;5;241m=\u001b[39m \u001b[43mloaded_model\u001b[49m\u001b[38;5;241;43m.\u001b[39;49m\u001b[43mpredict\u001b[49m\u001b[43m(\u001b[49m\u001b[43mvect\u001b[49m\u001b[38;5;241;43m.\u001b[39;49m\u001b[43mtransform\u001b[49m\u001b[43m(\u001b[49m\u001b[43m[\u001b[49m\u001b[43mclean_text\u001b[49m\u001b[43m]\u001b[49m\u001b[43m)\u001b[49m\u001b[38;5;241;43m.\u001b[39;49m\u001b[43mtoarray\u001b[49m\u001b[43m(\u001b[49m\u001b[43m)\u001b[49m\u001b[43m)\u001b[49m[\u001b[38;5;241m0\u001b[39m]\n",
      "File \u001b[0;32m/Library/Frameworks/Python.framework/Versions/3.10/lib/python3.10/site-packages/sklearn/linear_model/_base.py:447\u001b[0m, in \u001b[0;36mLinearClassifierMixin.predict\u001b[0;34m(self, X)\u001b[0m\n\u001b[1;32m    433\u001b[0m \u001b[38;5;28;01mdef\u001b[39;00m \u001b[38;5;21mpredict\u001b[39m(\u001b[38;5;28mself\u001b[39m, X):\n\u001b[1;32m    434\u001b[0m \u001b[38;5;250m    \u001b[39m\u001b[38;5;124;03m\"\"\"\u001b[39;00m\n\u001b[1;32m    435\u001b[0m \u001b[38;5;124;03m    Predict class labels for samples in X.\u001b[39;00m\n\u001b[1;32m    436\u001b[0m \n\u001b[0;32m   (...)\u001b[0m\n\u001b[1;32m    445\u001b[0m \u001b[38;5;124;03m        Vector containing the class labels for each sample.\u001b[39;00m\n\u001b[1;32m    446\u001b[0m \u001b[38;5;124;03m    \"\"\"\u001b[39;00m\n\u001b[0;32m--> 447\u001b[0m     scores \u001b[38;5;241m=\u001b[39m \u001b[38;5;28;43mself\u001b[39;49m\u001b[38;5;241;43m.\u001b[39;49m\u001b[43mdecision_function\u001b[49m\u001b[43m(\u001b[49m\u001b[43mX\u001b[49m\u001b[43m)\u001b[49m\n\u001b[1;32m    448\u001b[0m     \u001b[38;5;28;01mif\u001b[39;00m \u001b[38;5;28mlen\u001b[39m(scores\u001b[38;5;241m.\u001b[39mshape) \u001b[38;5;241m==\u001b[39m \u001b[38;5;241m1\u001b[39m:\n\u001b[1;32m    449\u001b[0m         indices \u001b[38;5;241m=\u001b[39m (scores \u001b[38;5;241m>\u001b[39m \u001b[38;5;241m0\u001b[39m)\u001b[38;5;241m.\u001b[39mastype(\u001b[38;5;28mint\u001b[39m)\n",
      "File \u001b[0;32m/Library/Frameworks/Python.framework/Versions/3.10/lib/python3.10/site-packages/sklearn/linear_model/_base.py:429\u001b[0m, in \u001b[0;36mLinearClassifierMixin.decision_function\u001b[0;34m(self, X)\u001b[0m\n\u001b[1;32m    409\u001b[0m \u001b[38;5;250m\u001b[39m\u001b[38;5;124;03m\"\"\"\u001b[39;00m\n\u001b[1;32m    410\u001b[0m \u001b[38;5;124;03mPredict confidence scores for samples.\u001b[39;00m\n\u001b[1;32m    411\u001b[0m \n\u001b[0;32m   (...)\u001b[0m\n\u001b[1;32m    425\u001b[0m \u001b[38;5;124;03m    this class would be predicted.\u001b[39;00m\n\u001b[1;32m    426\u001b[0m \u001b[38;5;124;03m\"\"\"\u001b[39;00m\n\u001b[1;32m    427\u001b[0m check_is_fitted(\u001b[38;5;28mself\u001b[39m)\n\u001b[0;32m--> 429\u001b[0m X \u001b[38;5;241m=\u001b[39m \u001b[38;5;28;43mself\u001b[39;49m\u001b[38;5;241;43m.\u001b[39;49m\u001b[43m_validate_data\u001b[49m\u001b[43m(\u001b[49m\u001b[43mX\u001b[49m\u001b[43m,\u001b[49m\u001b[43m \u001b[49m\u001b[43maccept_sparse\u001b[49m\u001b[38;5;241;43m=\u001b[39;49m\u001b[38;5;124;43m\"\u001b[39;49m\u001b[38;5;124;43mcsr\u001b[39;49m\u001b[38;5;124;43m\"\u001b[39;49m\u001b[43m,\u001b[49m\u001b[43m \u001b[49m\u001b[43mreset\u001b[49m\u001b[38;5;241;43m=\u001b[39;49m\u001b[38;5;28;43;01mFalse\u001b[39;49;00m\u001b[43m)\u001b[49m\n\u001b[1;32m    430\u001b[0m scores \u001b[38;5;241m=\u001b[39m safe_sparse_dot(X, \u001b[38;5;28mself\u001b[39m\u001b[38;5;241m.\u001b[39mcoef_\u001b[38;5;241m.\u001b[39mT, dense_output\u001b[38;5;241m=\u001b[39m\u001b[38;5;28;01mTrue\u001b[39;00m) \u001b[38;5;241m+\u001b[39m \u001b[38;5;28mself\u001b[39m\u001b[38;5;241m.\u001b[39mintercept_\n\u001b[1;32m    431\u001b[0m \u001b[38;5;28;01mreturn\u001b[39;00m scores\u001b[38;5;241m.\u001b[39mravel() \u001b[38;5;28;01mif\u001b[39;00m scores\u001b[38;5;241m.\u001b[39mshape[\u001b[38;5;241m1\u001b[39m] \u001b[38;5;241m==\u001b[39m \u001b[38;5;241m1\u001b[39m \u001b[38;5;28;01melse\u001b[39;00m scores\n",
      "File \u001b[0;32m/Library/Frameworks/Python.framework/Versions/3.10/lib/python3.10/site-packages/sklearn/base.py:600\u001b[0m, in \u001b[0;36mBaseEstimator._validate_data\u001b[0;34m(self, X, y, reset, validate_separately, **check_params)\u001b[0m\n\u001b[1;32m    597\u001b[0m     out \u001b[38;5;241m=\u001b[39m X, y\n\u001b[1;32m    599\u001b[0m \u001b[38;5;28;01mif\u001b[39;00m \u001b[38;5;129;01mnot\u001b[39;00m no_val_X \u001b[38;5;129;01mand\u001b[39;00m check_params\u001b[38;5;241m.\u001b[39mget(\u001b[38;5;124m\"\u001b[39m\u001b[38;5;124mensure_2d\u001b[39m\u001b[38;5;124m\"\u001b[39m, \u001b[38;5;28;01mTrue\u001b[39;00m):\n\u001b[0;32m--> 600\u001b[0m     \u001b[38;5;28;43mself\u001b[39;49m\u001b[38;5;241;43m.\u001b[39;49m\u001b[43m_check_n_features\u001b[49m\u001b[43m(\u001b[49m\u001b[43mX\u001b[49m\u001b[43m,\u001b[49m\u001b[43m \u001b[49m\u001b[43mreset\u001b[49m\u001b[38;5;241;43m=\u001b[39;49m\u001b[43mreset\u001b[49m\u001b[43m)\u001b[49m\n\u001b[1;32m    602\u001b[0m \u001b[38;5;28;01mreturn\u001b[39;00m out\n",
      "File \u001b[0;32m/Library/Frameworks/Python.framework/Versions/3.10/lib/python3.10/site-packages/sklearn/base.py:400\u001b[0m, in \u001b[0;36mBaseEstimator._check_n_features\u001b[0;34m(self, X, reset)\u001b[0m\n\u001b[1;32m    397\u001b[0m     \u001b[38;5;28;01mreturn\u001b[39;00m\n\u001b[1;32m    399\u001b[0m \u001b[38;5;28;01mif\u001b[39;00m n_features \u001b[38;5;241m!=\u001b[39m \u001b[38;5;28mself\u001b[39m\u001b[38;5;241m.\u001b[39mn_features_in_:\n\u001b[0;32m--> 400\u001b[0m     \u001b[38;5;28;01mraise\u001b[39;00m \u001b[38;5;167;01mValueError\u001b[39;00m(\n\u001b[1;32m    401\u001b[0m         \u001b[38;5;124mf\u001b[39m\u001b[38;5;124m\"\u001b[39m\u001b[38;5;124mX has \u001b[39m\u001b[38;5;132;01m{\u001b[39;00mn_features\u001b[38;5;132;01m}\u001b[39;00m\u001b[38;5;124m features, but \u001b[39m\u001b[38;5;132;01m{\u001b[39;00m\u001b[38;5;28mself\u001b[39m\u001b[38;5;241m.\u001b[39m\u001b[38;5;18m__class__\u001b[39m\u001b[38;5;241m.\u001b[39m\u001b[38;5;18m__name__\u001b[39m\u001b[38;5;132;01m}\u001b[39;00m\u001b[38;5;124m \u001b[39m\u001b[38;5;124m\"\u001b[39m\n\u001b[1;32m    402\u001b[0m         \u001b[38;5;124mf\u001b[39m\u001b[38;5;124m\"\u001b[39m\u001b[38;5;124mis expecting \u001b[39m\u001b[38;5;132;01m{\u001b[39;00m\u001b[38;5;28mself\u001b[39m\u001b[38;5;241m.\u001b[39mn_features_in_\u001b[38;5;132;01m}\u001b[39;00m\u001b[38;5;124m features as input.\u001b[39m\u001b[38;5;124m\"\u001b[39m\n\u001b[1;32m    403\u001b[0m     )\n",
      "\u001b[0;31mValueError\u001b[0m: X has 31730 features, but LogisticRegression is expecting 24060 features as input."
     ]
    }
   ],
   "source": [
    "loaded_model = pickle.load(open('CV_BestModel.sav', 'rb'))\n",
    "single_prediction = loaded_model.predict(vect.transform([clean_text]).toarray())[0]"
   ]
  },
  {
   "cell_type": "code",
   "execution_count": 28,
   "id": "a3a7d64d",
   "metadata": {
    "colab": {
     "base_uri": "https://localhost:8080/"
    },
    "execution": {
     "iopub.execute_input": "2023-03-15T08:13:06.108037Z",
     "iopub.status.busy": "2023-03-15T08:13:06.107511Z",
     "iopub.status.idle": "2023-03-15T08:13:06.116645Z",
     "shell.execute_reply": "2023-03-15T08:13:06.114954Z",
     "shell.execute_reply.started": "2023-03-15T08:13:06.107991Z"
    },
    "id": "9e5c642a",
    "outputId": "76e6717f-569b-43c0-e397-317541b01054",
    "scrolled": true
   },
   "outputs": [
    {
     "ename": "NameError",
     "evalue": "name 'single_prediction' is not defined",
     "output_type": "error",
     "traceback": [
      "\u001b[0;31m---------------------------------------------------------------------------\u001b[0m",
      "\u001b[0;31mNameError\u001b[0m                                 Traceback (most recent call last)",
      "Cell \u001b[0;32mIn[28], line 3\u001b[0m\n\u001b[1;32m      1\u001b[0m output \u001b[38;5;241m=\u001b[39m {\u001b[38;5;241m0\u001b[39m:\u001b[38;5;124m\"\u001b[39m\u001b[38;5;124mNo Divergence\u001b[39m\u001b[38;5;124m\"\u001b[39m,\n\u001b[1;32m      2\u001b[0m           \u001b[38;5;241m1\u001b[39m:\u001b[38;5;124m\"\u001b[39m\u001b[38;5;124mPossibility of a Divergence\u001b[39m\u001b[38;5;124m\"\u001b[39m}\n\u001b[0;32m----> 3\u001b[0m \u001b[38;5;28mprint\u001b[39m(output[\u001b[43msingle_prediction\u001b[49m])\n",
      "\u001b[0;31mNameError\u001b[0m: name 'single_prediction' is not defined"
     ]
    }
   ],
   "source": [
    "output = {0:\"No Divergence\",\n",
    "          1:\"Possibility of a Divergence\"}\n",
    "print(output[single_prediction])"
   ]
  },
  {
   "cell_type": "code",
   "execution_count": null,
   "id": "7caccfb1",
   "metadata": {
    "execution": {
     "iopub.execute_input": "2023-03-15T08:13:17.899270Z",
     "iopub.status.busy": "2023-03-15T08:13:17.897776Z",
     "iopub.status.idle": "2023-03-15T08:13:17.905443Z",
     "shell.execute_reply": "2023-03-15T08:13:17.903722Z",
     "shell.execute_reply.started": "2023-03-15T08:13:17.899207Z"
    },
    "id": "d2a14445"
   },
   "outputs": [],
   "source": [
    "from sklearn.metrics import classification_report,confusion_matrix,accuracy_score\n"
   ]
  },
  {
   "cell_type": "code",
   "execution_count": null,
   "id": "21771f2a",
   "metadata": {
    "execution": {
     "iopub.execute_input": "2023-03-15T08:13:24.184138Z",
     "iopub.status.busy": "2023-03-15T08:13:24.183670Z",
     "iopub.status.idle": "2023-03-15T08:13:24.193739Z",
     "shell.execute_reply": "2023-03-15T08:13:24.191791Z",
     "shell.execute_reply.started": "2023-03-15T08:13:24.184099Z"
    },
    "id": "11f42568"
   },
   "outputs": [],
   "source": [
    "from sklearn.linear_model import LogisticRegression\n",
    "from sklearn.naive_bayes import MultinomialNB\n",
    "from sklearn.tree import DecisionTreeClassifier\n",
    "\n",
    "lr_model = LogisticRegression(max_iter=400)\n",
    "dt_model = DecisionTreeClassifier()\n",
    "rf_model = RandomForestClassifier()\n",
    "mnb_model = MultinomialNB()\n",
    "ada_model = AdaBoostClassifier()\n",
    "model_names = ['Logistic Regression','Decision Tree','Random Forest','Naive Bayes', 'AdaBoost']\n",
    "ml_models = [lr_model,dt_model,rf_model,mnb_model, ada_model]"
   ]
  },
  {
   "cell_type": "code",
   "execution_count": null,
   "id": "12a695cd",
   "metadata": {
    "execution": {
     "iopub.execute_input": "2023-03-15T08:13:31.060938Z",
     "iopub.status.busy": "2023-03-15T08:13:31.060456Z",
     "iopub.status.idle": "2023-03-15T08:21:47.796948Z",
     "shell.execute_reply": "2023-03-15T08:21:47.795582Z",
     "shell.execute_reply.started": "2023-03-15T08:13:31.060895Z"
    },
    "id": "cd148251"
   },
   "outputs": [],
   "source": [
    "trained_ml_models = []\n",
    "def model_train(model, train_data, train_labels):\n",
    "    mf = model.fit(train_data,train_labels)\n",
    "    trained_ml_models.append(mf)\n",
    "# trained_ml_models = []\n",
    "for i in ml_models:\n",
    "    model_train(i,X_train, y_train)\n",
    "#     trained_ml_models.append(tt)"
   ]
  },
  {
   "cell_type": "code",
   "execution_count": null,
   "id": "31a67555",
   "metadata": {
    "execution": {
     "iopub.execute_input": "2023-03-15T08:21:56.166486Z",
     "iopub.status.busy": "2023-03-15T08:21:56.166013Z",
     "iopub.status.idle": "2023-03-15T08:26:15.584199Z",
     "shell.execute_reply": "2023-03-15T08:26:15.582707Z",
     "shell.execute_reply.started": "2023-03-15T08:21:56.166439Z"
    },
    "id": "2b0ecd46"
   },
   "outputs": [],
   "source": [
    "from sklearn.metrics import accuracy_score,precision_score,recall_score,f1_score,roc_auc_score\n",
    "\n",
    "ac_list = []\n",
    "pr_list = []\n",
    "re_list = []\n",
    "f1_list = []\n",
    "\n",
    "def print_results(md, x_test, y_test, name):\n",
    "    #print(\"\\n\\nClassifier: \", name)\n",
    "    pred_y = md.predict(x_test)\n",
    "    true, pred = y_test, pred_y\n",
    "    ac_list.append((round(accuracy_score(y_test, pred_y),4)*100))\n",
    "    pr_list.append((round(precision_score(y_test, pred_y, average='weighted'),4)*100)) \n",
    "    re_list.append((round(recall_score(y_test, pred_y, average='weighted'),4)*100))\n",
    "    f1_list.append((round(f1_score(y_test, pred_y, average='weighted'),4)*100))\n",
    "\n",
    "for i in range(len(trained_ml_models)):\n",
    "    md = trained_ml_models[i]\n",
    "    name = model_names[i]\n",
    "    print_results(md, X_test, y_test, name)\n",
    "\n",
    "performance_matrix = pd.DataFrame({'Accuracy':ac_list,'Precision':pr_list,\n",
    "                                   'Recall':re_list,'F1 Score':f1_list},\n",
    "                                  index =model_names)"
   ]
  },
  {
   "cell_type": "code",
   "execution_count": null,
   "id": "0d770316",
   "metadata": {
    "colab": {
     "base_uri": "https://localhost:8080/",
     "height": 275
    },
    "execution": {
     "iopub.execute_input": "2023-03-15T08:26:15.587661Z",
     "iopub.status.busy": "2023-03-15T08:26:15.587172Z",
     "iopub.status.idle": "2023-03-15T08:26:15.607504Z",
     "shell.execute_reply": "2023-03-15T08:26:15.605239Z",
     "shell.execute_reply.started": "2023-03-15T08:26:15.587614Z"
    },
    "id": "07168038",
    "outputId": "09d6e623-af6a-4fc1-d045-920c05aa5b70"
   },
   "outputs": [],
   "source": [
    "performance_matrix.style.set_properties(**{\"background-color\": \"#E5E4E2\",\"color\":\"BLACK\",\"border\": \"1.5px  solid black\"})"
   ]
  },
  {
   "cell_type": "code",
   "execution_count": null,
   "id": "d3d879b5",
   "metadata": {
    "execution": {
     "iopub.execute_input": "2023-03-15T08:26:22.980115Z",
     "iopub.status.busy": "2023-03-15T08:26:22.979594Z",
     "iopub.status.idle": "2023-03-15T08:26:22.987879Z",
     "shell.execute_reply": "2023-03-15T08:26:22.986369Z",
     "shell.execute_reply.started": "2023-03-15T08:26:22.980066Z"
    },
    "id": "d46bb2a8"
   },
   "outputs": [],
   "source": [
    "data_matrix = pd.DataFrame({'Model':model_names,'Accuracy':ac_list,'Precision':pr_list,'Recall':re_list,'F1 Score':f1_list,\n",
    "},)"
   ]
  },
  {
   "cell_type": "code",
   "execution_count": null,
   "id": "37d466e9",
   "metadata": {
    "colab": {
     "base_uri": "https://localhost:8080/",
     "height": 275
    },
    "execution": {
     "iopub.execute_input": "2023-03-15T08:26:34.730089Z",
     "iopub.status.busy": "2023-03-15T08:26:34.729543Z",
     "iopub.status.idle": "2023-03-15T08:26:34.750993Z",
     "shell.execute_reply": "2023-03-15T08:26:34.749011Z",
     "shell.execute_reply.started": "2023-03-15T08:26:34.730039Z"
    },
    "id": "231c428c",
    "outputId": "1c93651e-1dbf-4597-f6d8-adaca0f93497"
   },
   "outputs": [],
   "source": [
    "data_matrix.style.set_properties(**{\"background-color\": \"#E5E4E2\",\"color\":\"BLACK\",\"border\": \"1.5px  solid black\"})"
   ]
  },
  {
   "cell_type": "code",
   "execution_count": null,
   "id": "79cbce8e",
   "metadata": {
    "colab": {
     "base_uri": "https://localhost:8080/",
     "height": 482
    },
    "execution": {
     "iopub.execute_input": "2023-03-15T08:26:38.991762Z",
     "iopub.status.busy": "2023-03-15T08:26:38.991244Z",
     "iopub.status.idle": "2023-03-15T08:26:39.472923Z",
     "shell.execute_reply": "2023-03-15T08:26:39.471261Z",
     "shell.execute_reply.started": "2023-03-15T08:26:38.991712Z"
    },
    "id": "2e23c6e3",
    "outputId": "a4cb7b47-2fab-48bb-f209-6615e896bd91"
   },
   "outputs": [],
   "source": [
    "df_1 = pd.melt(data_matrix, id_vars=\"Model\", var_name=\"Category\", value_name=\"Values\")\n",
    "plt.figure(figsize=(12, 6))\n",
    "ax = plt.subplot()\n",
    "\n",
    "sns.barplot(data=df_1,x='Model', y='Values' ,hue='Category')\n",
    "ax.set_xlabel('Model') \n",
    "ax.set_title('Performance Evaluation')\n",
    "\n",
    "ax.xaxis.set_ticklabels(model_names, rotation=45);\n",
    "plt.show()"
   ]
  },
  {
   "cell_type": "markdown",
   "id": "6a94fdfc",
   "metadata": {},
   "source": [
    "# User Interface"
   ]
  },
  {
   "cell_type": "code",
   "execution_count": null,
   "id": "280cbae7",
   "metadata": {},
   "outputs": [],
   "source": [
    "!pip install gradio"
   ]
  },
  {
   "cell_type": "code",
   "execution_count": null,
   "id": "996d5f0a",
   "metadata": {},
   "outputs": [],
   "source": [
    "import gradio as gr\n",
    "import pickle"
   ]
  },
  {
   "cell_type": "code",
   "execution_count": null,
   "id": "eddccec3",
   "metadata": {},
   "outputs": [],
   "source": [
    "def predict_ans(text):\n",
    "    clean_text = text_cleaner(text)\n",
    "    loaded_model = pickle.load(open('CV_BestModel.sav', 'rb'))\n",
    "    single_prediction = loaded_model.predict(vect.transform([clean_text]).toarray())[0]\n",
    "    output = {0:\"No psychological divergence\", 1:\"Possible Psychological divergence\"}\n",
    "    return (output[single_prediction])"
   ]
  },
  {
   "cell_type": "code",
   "execution_count": null,
   "id": "ecea0762",
   "metadata": {},
   "outputs": [],
   "source": [
    "label = gr.outputs.Label()\n",
    "title = \"Predicting Psychological Divergence using social media data\"\n",
    "desc = \"Do enter a statement to apply our Model\"\n",
    "\n",
    "gr.Interface(fn=predict_ans, inputs=\"text\", outputs=label,interpretation='default',theme=gr.themes.Glass(),title=title, description=desc).launch(debug='True')"
   ]
  },
  {
   "cell_type": "code",
   "execution_count": null,
   "id": "23a9d492",
   "metadata": {},
   "outputs": [],
   "source": []
  }
 ],
 "metadata": {
  "colab": {
   "include_colab_link": true,
   "provenance": []
  },
  "kernelspec": {
   "display_name": "Python 3 (ipykernel)",
   "language": "python",
   "name": "python3"
  },
  "language_info": {
   "codemirror_mode": {
    "name": "ipython",
    "version": 3
   },
   "file_extension": ".py",
   "mimetype": "text/x-python",
   "name": "python",
   "nbconvert_exporter": "python",
   "pygments_lexer": "ipython3",
   "version": "3.10.4"
  }
 },
 "nbformat": 4,
 "nbformat_minor": 5
}
